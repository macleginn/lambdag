{
 "cells": [
  {
   "cell_type": "code",
   "execution_count": 1,
   "id": "e09f0bf2",
   "metadata": {},
   "outputs": [],
   "source": [
    "from pos_noise import POSNoise"
   ]
  },
  {
   "cell_type": "code",
   "execution_count": 2,
   "id": "cc2b12f8",
   "metadata": {},
   "outputs": [],
   "source": [
    "pos_noise = POSNoise()"
   ]
  },
  {
   "cell_type": "code",
   "execution_count": 5,
   "id": "62837ba6",
   "metadata": {},
   "outputs": [],
   "source": [
    "test_sentences = [\n",
    "    \"For that reason, we decided to postpone the meeting until next week.\",\n",
    "    \"Whatever you decide, I will support your choice.\",\n",
    "    \"I'll be ready to leave in a moment.\",\n",
    "    \"She used to live in Paris before moving to London.\",\n",
    "    \"All in all, it was a successful event despite the minor issues.\",\n",
    "    \"He doesn't like coffee, so he always drinks tea.\",\n",
    "    \"In addition to her job, she volunteers at the local shelter.\",\n",
    "    \"They discussed the project at length during the meeting.\",\n",
    "    \"In any event, we should be prepared for any outcome.\",\n",
    "    \"She enjoys hiking as well as that she loves swimming.\",\n",
    "    \"In addition, we need to consider the budget constraints.\",\n",
    "    \"You should take care of yourselves during the trip.\",\n",
    "    \"I'd like to visit the museum this weekend.\",\n",
    "    \"Please stand at the front of the line.\",\n",
    "    \"For one thing, we need more time to complete the project.\",\n",
    "    \"You will receive the results in due time.\",\n",
    "    \"To summarize, the main points are clear and concise.\",\n",
    "    \"Who is responsible for this task?\",\n",
    "    \"The contract specifies the terms wherein the agreement can be terminated.\",\n",
    "    \"Her painting style is similar to that of the famous artist.\"\n",
    "]"
   ]
  },
  {
   "cell_type": "code",
   "execution_count": 7,
   "id": "44964fee",
   "metadata": {},
   "outputs": [
    {
     "name": "stdout",
     "output_type": "stream",
     "text": [
      "Original: For that reason, we decided to postpone the meeting until next week.\n",
      "POS Noise: ['for', 'that', 'reason', ',', 'we', 'VERB', 'to', 'VERB', 'the', 'NOUN', 'until', 'next', 'week', '.']\n",
      "\n",
      "Original: Whatever you decide, I will support your choice.\n",
      "POS Noise: ['whatever', 'you', 'VERB', ',', 'i', 'will', 'VERB', 'your', 'NOUN', '.']\n",
      "\n",
      "Original: I'll be ready to leave in a moment.\n",
      "POS Noise: ['i', \"'ll\", 'be', 'ADJ', 'to', 'leave', 'in', 'a', 'moment', '.']\n",
      "\n",
      "Original: She used to live in Paris before moving to London.\n",
      "POS Noise: ['she', 'used', 'to', 'live', 'in', 'PROPN', 'before', 'moving', 'to', 'PROPN', '.']\n",
      "\n",
      "Original: All in all, it was a successful event despite the minor issues.\n",
      "POS Noise: ['all', 'in', 'all', ',', 'it', 'was', 'a', 'ADJ', 'NOUN', 'despite', 'the', 'ADJ', 'NOUN', '.']\n",
      "\n",
      "Original: He doesn't like coffee, so he always drinks tea.\n",
      "POS Noise: ['he', 'does', \"n't\", 'like', 'NOUN', ',', 'so', 'he', 'always', 'VERB', 'NOUN', '.']\n",
      "\n",
      "Original: In addition to her job, she volunteers at the local shelter.\n",
      "POS Noise: ['in', 'addition', 'to', 'her', 'NOUN', ',', 'she', 'VERB', 'at', 'the', 'ADJ', 'NOUN', '.']\n",
      "\n",
      "Original: They discussed the project at length during the meeting.\n",
      "POS Noise: ['they', 'VERB', 'the', 'NOUN', 'at', 'length', 'during', 'the', 'NOUN', '.']\n",
      "\n",
      "Original: In any event, we should be prepared for any outcome.\n",
      "POS Noise: ['in', 'any', 'event', ',', 'we', 'should', 'be', 'VERB', 'for', 'any', 'NOUN', '.']\n",
      "\n",
      "Original: She enjoys hiking as well as that she loves swimming.\n",
      "POS Noise: ['she', 'VERB', 'VERB', 'as', 'well', 'as', 'that', 'she', 'VERB', 'VERB', '.']\n",
      "\n",
      "Original: In addition, we need to consider the budget constraints.\n",
      "POS Noise: ['in', 'addition', ',', 'we', 'need', 'to', 'VERB', 'the', 'NOUN', 'NOUN', '.']\n",
      "\n",
      "Original: You should take care of yourselves during the trip.\n",
      "POS Noise: ['you', 'should', 'take', 'NOUN', 'of', 'yourselves', 'during', 'the', 'NOUN', '.']\n",
      "\n",
      "Original: I'd like to visit the museum this weekend.\n",
      "POS Noise: ['i', \"'d\", 'like', 'to', 'VERB', 'the', 'NOUN', 'this', 'NOUN', '.']\n",
      "\n",
      "Original: Please stand at the front of the line.\n",
      "POS Noise: ['INTJ', 'VERB', 'at', 'the', 'front', 'of', 'the', 'NOUN', '.']\n",
      "\n",
      "Original: For one thing, we need more time to complete the project.\n",
      "POS Noise: ['for', 'one', 'thing', ',', 'we', 'need', 'more', 'NOUN', 'to', 'VERB', 'the', 'NOUN', '.']\n",
      "\n",
      "Original: You will receive the results in due time.\n",
      "POS Noise: ['you', 'will', 'VERB', 'the', 'NOUN', 'in', 'due', 'time', '.']\n",
      "\n",
      "Original: To summarize, the main points are clear and concise.\n",
      "POS Noise: ['to', 'summarize', ',', 'the', 'ADJ', 'NOUN', 'are', 'ADJ', 'and', 'ADJ', '.']\n",
      "\n",
      "Original: Who is responsible for this task?\n",
      "POS Noise: ['who', 'is', 'ADJ', 'for', 'this', 'NOUN', '?']\n",
      "\n",
      "Original: The contract specifies the terms wherein the agreement can be terminated.\n",
      "POS Noise: ['the', 'NOUN', 'VERB', 'the', 'NOUN', 'wherein', 'the', 'NOUN', 'can', 'be', 'VERB', '.']\n",
      "\n",
      "Original: Her painting style is similar to that of the famous artist.\n",
      "POS Noise: ['her', 'VERB', 'NOUN', 'is', 'similar', 'to', 'that', 'of', 'the', 'ADJ', 'NOUN', '.']\n",
      "\n"
     ]
    }
   ],
   "source": [
    "for s in test_sentences:\n",
    "    print(f\"Original: {s}\")\n",
    "    print(f\"POS Noise: {pos_noise.apply_noise(s)}\")\n",
    "    print()"
   ]
  },
  {
   "cell_type": "code",
   "execution_count": null,
   "id": "4e8faec1",
   "metadata": {},
   "outputs": [],
   "source": []
  }
 ],
 "metadata": {
  "kernelspec": {
   "display_name": ".venv",
   "language": "python",
   "name": "python3"
  },
  "language_info": {
   "codemirror_mode": {
    "name": "ipython",
    "version": 3
   },
   "file_extension": ".py",
   "mimetype": "text/x-python",
   "name": "python",
   "nbconvert_exporter": "python",
   "pygments_lexer": "ipython3",
   "version": "3.9.21"
  }
 },
 "nbformat": 4,
 "nbformat_minor": 5
}
