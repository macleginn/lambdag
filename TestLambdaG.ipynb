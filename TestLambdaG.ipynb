{
 "cells": [
  {
   "cell_type": "code",
   "execution_count": 1,
   "id": "40cbce26",
   "metadata": {},
   "outputs": [
    {
     "name": "stderr",
     "output_type": "stream",
     "text": [
      "/home/dniko/code/recursive_dict/.venv/lib/python3.9/site-packages/tqdm/auto.py:21: TqdmWarning: IProgress not found. Please update jupyter and ipywidgets. See https://ipywidgets.readthedocs.io/en/stable/user_install.html\n",
      "  from .autonotebook import tqdm as notebook_tqdm\n"
     ]
    }
   ],
   "source": [
    "import random\n",
    "from tqdm.auto import tqdm\n",
    "from collections import defaultdict\n",
    "import pandas as pd\n",
    "from lambdag import LambdaG"
   ]
  },
  {
   "cell_type": "code",
   "execution_count": 2,
   "id": "3208a652",
   "metadata": {},
   "outputs": [
    {
     "name": "stdout",
     "output_type": "stream",
     "text": [
      "Training reference models... "
     ]
    },
    {
     "name": "stderr",
     "output_type": "stream",
     "text": [
      "Training reference models: 100%|██████████| 20/20 [00:00<00:00, 130055.94it/s]"
     ]
    },
    {
     "name": "stdout",
     "output_type": "stream",
     "text": [
      "Done.\n"
     ]
    },
    {
     "name": "stderr",
     "output_type": "stream",
     "text": [
      "\n"
     ]
    }
   ],
   "source": [
    "lambda_g = LambdaG()"
   ]
  },
  {
   "cell_type": "code",
   "execution_count": 3,
   "id": "4d1491f2",
   "metadata": {},
   "outputs": [],
   "source": [
    "records = []\n",
    "with open(\"/mnt/d/datasets/Gungor_2018_VictorianAuthorAttribution_data-train.csv\", \"r\", encoding=\"utf-8\", \n",
    "          errors='replace') as f:\n",
    "    for line in f:\n",
    "        line = line.strip()\n",
    "        if not line or '�' in line:\n",
    "            continue\n",
    "        records.append(line.split(\",\"))\n",
    "df = pd.DataFrame(records[1:], columns=records[0])"
   ]
  },
  {
   "cell_type": "code",
   "execution_count": 4,
   "id": "4470d050",
   "metadata": {},
   "outputs": [
    {
     "data": {
      "text/plain": [
       "author\n",
       "1     819\n",
       "26    193\n",
       "8     163\n",
       "4     156\n",
       "37    143\n",
       "21    133\n",
       "38    113\n",
       "18     94\n",
       "15     92\n",
       "28     91\n",
       "Name: count, dtype: int64"
      ]
     },
     "execution_count": 4,
     "metadata": {},
     "output_type": "execute_result"
    }
   ],
   "source": [
    "df.author.value_counts()[:10]"
   ]
  },
  {
   "cell_type": "code",
   "execution_count": 5,
   "id": "3c4ecce4",
   "metadata": {},
   "outputs": [],
   "source": [
    "top_authors = df.author.value_counts()[:10].index.tolist()"
   ]
  },
  {
   "cell_type": "code",
   "execution_count": 6,
   "id": "dad47e04",
   "metadata": {},
   "outputs": [],
   "source": [
    "author_to_fragments = {}\n",
    "for author in top_authors:\n",
    "    author_to_fragments[author] = df.loc[df.author == author].text.tolist()"
   ]
  },
  {
   "cell_type": "code",
   "execution_count": 7,
   "id": "47b85903",
   "metadata": {},
   "outputs": [
    {
     "name": "stderr",
     "output_type": "stream",
     "text": [
      "Applying POS noise to the known-author corpus: 100%|██████████| 410/410 [00:09<00:00, 43.29it/s]\n",
      "Applying POS noise to the unknown-author corpus: 100%|██████████| 409/409 [00:08<00:00, 50.09it/s]\n",
      "  0%|          | 0/10 [04:31<?, ?it/s]\n"
     ]
    },
    {
     "ename": "KeyboardInterrupt",
     "evalue": "",
     "output_type": "error",
     "traceback": [
      "\u001b[0;31m---------------------------------------------------------------------------\u001b[0m",
      "\u001b[0;31mKeyboardInterrupt\u001b[0m                         Traceback (most recent call last)",
      "Cell \u001b[0;32mIn[7], line 9\u001b[0m\n\u001b[1;32m      7\u001b[0m test_fragments \u001b[38;5;241m=\u001b[39m target_author_fragments[:test_set_size]\n\u001b[1;32m      8\u001b[0m lambda_g\u001b[38;5;241m.\u001b[39mtrain_known_author_model(train_fragments)\n\u001b[0;32m----> 9\u001b[0m results[author][author] \u001b[38;5;241m=\u001b[39m \u001b[43mlambda_g\u001b[49m\u001b[38;5;241;43m.\u001b[39;49m\u001b[43mcompute_lambda_g\u001b[49m\u001b[43m(\u001b[49m\u001b[43mtest_fragments\u001b[49m\u001b[43m)\u001b[49m\n\u001b[1;32m     10\u001b[0m \u001b[38;5;28;01mfor\u001b[39;00m other_author \u001b[38;5;129;01min\u001b[39;00m tqdm(top_authors, leave\u001b[38;5;241m=\u001b[39m\u001b[38;5;28;01mFalse\u001b[39;00m):\n\u001b[1;32m     11\u001b[0m     \u001b[38;5;28;01mif\u001b[39;00m other_author \u001b[38;5;241m==\u001b[39m author:\n",
      "File \u001b[0;32m~/code/recursive_dict/lambdag.py:120\u001b[0m, in \u001b[0;36mLambdaG.compute_lambda_g\u001b[0;34m(self, sentences)\u001b[0m\n\u001b[1;32m    116\u001b[0m \u001b[38;5;28;01mfor\u001b[39;00m sentence \u001b[38;5;129;01min\u001b[39;00m sentences_with_pos_noise:\n\u001b[1;32m    117\u001b[0m     log_prob_known_author \u001b[38;5;241m=\u001b[39m \u001b[38;5;28mself\u001b[39m\u001b[38;5;241m.\u001b[39m_get_log_prob(\n\u001b[1;32m    118\u001b[0m         \u001b[38;5;28mself\u001b[39m\u001b[38;5;241m.\u001b[39mknown_author_model, sentence\n\u001b[1;32m    119\u001b[0m     )\n\u001b[0;32m--> 120\u001b[0m     \u001b[38;5;28;01mfor\u001b[39;00m model \u001b[38;5;129;01min\u001b[39;00m \u001b[38;5;28mself\u001b[39m\u001b[38;5;241m.\u001b[39mreference_models:\n\u001b[1;32m    121\u001b[0m         log_prob \u001b[38;5;241m=\u001b[39m _get_log_prob(model, sentence)\n\u001b[1;32m    122\u001b[0m         result \u001b[38;5;241m+\u001b[39m\u001b[38;5;241m=\u001b[39m \u001b[38;5;241m1.0\u001b[39m \u001b[38;5;241m/\u001b[39m \u001b[38;5;28mself\u001b[39m\u001b[38;5;241m.\u001b[39mN \u001b[38;5;241m*\u001b[39m (log_prob_known_author \u001b[38;5;241m-\u001b[39m log_prob)\n",
      "File \u001b[0;32m~/code/recursive_dict/lambdag.py:186\u001b[0m, in \u001b[0;36m_get_log_prob\u001b[0;34m(model, sentence)\u001b[0m\n\u001b[1;32m    180\u001b[0m     num_processes \u001b[38;5;241m-\u001b[39m\u001b[38;5;241m=\u001b[39m \u001b[38;5;241m1\u001b[39m\n\u001b[1;32m    181\u001b[0m \u001b[38;5;28;01mwith\u001b[39;00m mp\u001b[38;5;241m.\u001b[39mPool(processes\u001b[38;5;241m=\u001b[39mnum_processes) \u001b[38;5;28;01mas\u001b[39;00m pool:\n\u001b[1;32m    182\u001b[0m     pos_noised_sentences \u001b[38;5;241m=\u001b[39m \u001b[38;5;28mlist\u001b[39m(\n\u001b[1;32m    183\u001b[0m         tqdm(\n\u001b[1;32m    184\u001b[0m             pool\u001b[38;5;241m.\u001b[39mimap_unordered(pos_noise\u001b[38;5;241m.\u001b[39mapply_noise, sentences),\n\u001b[1;32m    185\u001b[0m             total\u001b[38;5;241m=\u001b[39m\u001b[38;5;28mlen\u001b[39m(sentences),\n\u001b[0;32m--> 186\u001b[0m             desc\u001b[38;5;241m=\u001b[39mdescription,\n\u001b[1;32m    187\u001b[0m             disable\u001b[38;5;241m=\u001b[39m\u001b[38;5;28mself\u001b[39m\u001b[38;5;241m.\u001b[39mdisable_tqdm,\n\u001b[1;32m    188\u001b[0m         )\n\u001b[1;32m    189\u001b[0m     )\n\u001b[1;32m    190\u001b[0m \u001b[38;5;28;01mreturn\u001b[39;00m pos_noised_sentences\n",
      "File \u001b[0;32m~/code/recursive_dict/.venv/lib/python3.9/site-packages/nltk/lm/api.py:124\u001b[0m, in \u001b[0;36mLanguageModel.score\u001b[0;34m(self, word, context)\u001b[0m\n\u001b[1;32m    118\u001b[0m \u001b[38;5;28;01mdef\u001b[39;00m\u001b[38;5;250m \u001b[39m\u001b[38;5;21mscore\u001b[39m(\u001b[38;5;28mself\u001b[39m, word, context\u001b[38;5;241m=\u001b[39m\u001b[38;5;28;01mNone\u001b[39;00m):\n\u001b[1;32m    119\u001b[0m \u001b[38;5;250m    \u001b[39m\u001b[38;5;124;03m\"\"\"Masks out of vocab (OOV) words and computes their model score.\u001b[39;00m\n\u001b[1;32m    120\u001b[0m \n\u001b[1;32m    121\u001b[0m \u001b[38;5;124;03m    For model-specific logic of calculating scores, see the `unmasked_score`\u001b[39;00m\n\u001b[1;32m    122\u001b[0m \u001b[38;5;124;03m    method.\u001b[39;00m\n\u001b[1;32m    123\u001b[0m \u001b[38;5;124;03m    \"\"\"\u001b[39;00m\n\u001b[0;32m--> 124\u001b[0m     \u001b[38;5;28;01mreturn\u001b[39;00m \u001b[38;5;28;43mself\u001b[39;49m\u001b[38;5;241;43m.\u001b[39;49m\u001b[43munmasked_score\u001b[49m\u001b[43m(\u001b[49m\n\u001b[1;32m    125\u001b[0m \u001b[43m        \u001b[49m\u001b[38;5;28;43mself\u001b[39;49m\u001b[38;5;241;43m.\u001b[39;49m\u001b[43mvocab\u001b[49m\u001b[38;5;241;43m.\u001b[39;49m\u001b[43mlookup\u001b[49m\u001b[43m(\u001b[49m\u001b[43mword\u001b[49m\u001b[43m)\u001b[49m\u001b[43m,\u001b[49m\u001b[43m \u001b[49m\u001b[38;5;28;43mself\u001b[39;49m\u001b[38;5;241;43m.\u001b[39;49m\u001b[43mvocab\u001b[49m\u001b[38;5;241;43m.\u001b[39;49m\u001b[43mlookup\u001b[49m\u001b[43m(\u001b[49m\u001b[43mcontext\u001b[49m\u001b[43m)\u001b[49m\u001b[43m \u001b[49m\u001b[38;5;28;43;01mif\u001b[39;49;00m\u001b[43m \u001b[49m\u001b[43mcontext\u001b[49m\u001b[43m \u001b[49m\u001b[38;5;28;43;01melse\u001b[39;49;00m\u001b[43m \u001b[49m\u001b[38;5;28;43;01mNone\u001b[39;49;00m\n\u001b[1;32m    126\u001b[0m \u001b[43m    \u001b[49m\u001b[43m)\u001b[49m\n",
      "File \u001b[0;32m~/code/recursive_dict/.venv/lib/python3.9/site-packages/nltk/lm/models.py:112\u001b[0m, in \u001b[0;36mInterpolatedLanguageModel.unmasked_score\u001b[0;34m(self, word, context)\u001b[0m\n\u001b[1;32m    110\u001b[0m \u001b[38;5;28;01melse\u001b[39;00m:\n\u001b[1;32m    111\u001b[0m     alpha, gamma \u001b[38;5;241m=\u001b[39m \u001b[38;5;28mself\u001b[39m\u001b[38;5;241m.\u001b[39mestimator\u001b[38;5;241m.\u001b[39malpha_gamma(word, context)\n\u001b[0;32m--> 112\u001b[0m \u001b[38;5;28;01mreturn\u001b[39;00m alpha \u001b[38;5;241m+\u001b[39m gamma \u001b[38;5;241m*\u001b[39m \u001b[38;5;28;43mself\u001b[39;49m\u001b[38;5;241;43m.\u001b[39;49m\u001b[43munmasked_score\u001b[49m\u001b[43m(\u001b[49m\u001b[43mword\u001b[49m\u001b[43m,\u001b[49m\u001b[43m \u001b[49m\u001b[43mcontext\u001b[49m\u001b[43m[\u001b[49m\u001b[38;5;241;43m1\u001b[39;49m\u001b[43m:\u001b[49m\u001b[43m]\u001b[49m\u001b[43m)\u001b[49m\n",
      "File \u001b[0;32m~/code/recursive_dict/.venv/lib/python3.9/site-packages/nltk/lm/models.py:112\u001b[0m, in \u001b[0;36mInterpolatedLanguageModel.unmasked_score\u001b[0;34m(self, word, context)\u001b[0m\n\u001b[1;32m    110\u001b[0m \u001b[38;5;28;01melse\u001b[39;00m:\n\u001b[1;32m    111\u001b[0m     alpha, gamma \u001b[38;5;241m=\u001b[39m \u001b[38;5;28mself\u001b[39m\u001b[38;5;241m.\u001b[39mestimator\u001b[38;5;241m.\u001b[39malpha_gamma(word, context)\n\u001b[0;32m--> 112\u001b[0m \u001b[38;5;28;01mreturn\u001b[39;00m alpha \u001b[38;5;241m+\u001b[39m gamma \u001b[38;5;241m*\u001b[39m \u001b[38;5;28;43mself\u001b[39;49m\u001b[38;5;241;43m.\u001b[39;49m\u001b[43munmasked_score\u001b[49m\u001b[43m(\u001b[49m\u001b[43mword\u001b[49m\u001b[43m,\u001b[49m\u001b[43m \u001b[49m\u001b[43mcontext\u001b[49m\u001b[43m[\u001b[49m\u001b[38;5;241;43m1\u001b[39;49m\u001b[43m:\u001b[49m\u001b[43m]\u001b[49m\u001b[43m)\u001b[49m\n",
      "File \u001b[0;32m~/code/recursive_dict/.venv/lib/python3.9/site-packages/nltk/lm/models.py:112\u001b[0m, in \u001b[0;36mInterpolatedLanguageModel.unmasked_score\u001b[0;34m(self, word, context)\u001b[0m\n\u001b[1;32m    110\u001b[0m \u001b[38;5;28;01melse\u001b[39;00m:\n\u001b[1;32m    111\u001b[0m     alpha, gamma \u001b[38;5;241m=\u001b[39m \u001b[38;5;28mself\u001b[39m\u001b[38;5;241m.\u001b[39mestimator\u001b[38;5;241m.\u001b[39malpha_gamma(word, context)\n\u001b[0;32m--> 112\u001b[0m \u001b[38;5;28;01mreturn\u001b[39;00m alpha \u001b[38;5;241m+\u001b[39m gamma \u001b[38;5;241m*\u001b[39m \u001b[38;5;28;43mself\u001b[39;49m\u001b[38;5;241;43m.\u001b[39;49m\u001b[43munmasked_score\u001b[49m\u001b[43m(\u001b[49m\u001b[43mword\u001b[49m\u001b[43m,\u001b[49m\u001b[43m \u001b[49m\u001b[43mcontext\u001b[49m\u001b[43m[\u001b[49m\u001b[38;5;241;43m1\u001b[39;49m\u001b[43m:\u001b[49m\u001b[43m]\u001b[49m\u001b[43m)\u001b[49m\n",
      "File \u001b[0;32m~/code/recursive_dict/.venv/lib/python3.9/site-packages/nltk/lm/models.py:111\u001b[0m, in \u001b[0;36mInterpolatedLanguageModel.unmasked_score\u001b[0;34m(self, word, context)\u001b[0m\n\u001b[1;32m    109\u001b[0m     alpha, gamma \u001b[38;5;241m=\u001b[39m \u001b[38;5;241m0\u001b[39m, \u001b[38;5;241m1\u001b[39m\n\u001b[1;32m    110\u001b[0m \u001b[38;5;28;01melse\u001b[39;00m:\n\u001b[0;32m--> 111\u001b[0m     alpha, gamma \u001b[38;5;241m=\u001b[39m \u001b[38;5;28;43mself\u001b[39;49m\u001b[38;5;241;43m.\u001b[39;49m\u001b[43mestimator\u001b[49m\u001b[38;5;241;43m.\u001b[39;49m\u001b[43malpha_gamma\u001b[49m\u001b[43m(\u001b[49m\u001b[43mword\u001b[49m\u001b[43m,\u001b[49m\u001b[43m \u001b[49m\u001b[43mcontext\u001b[49m\u001b[43m)\u001b[49m\n\u001b[1;32m    112\u001b[0m \u001b[38;5;28;01mreturn\u001b[39;00m alpha \u001b[38;5;241m+\u001b[39m gamma \u001b[38;5;241m*\u001b[39m \u001b[38;5;28mself\u001b[39m\u001b[38;5;241m.\u001b[39munmasked_score(word, context[\u001b[38;5;241m1\u001b[39m:])\n",
      "File \u001b[0;32m~/code/recursive_dict/.venv/lib/python3.9/site-packages/nltk/lm/smoothing.py:44\u001b[0m, in \u001b[0;36mWittenBell.alpha_gamma\u001b[0;34m(self, word, context)\u001b[0m\n\u001b[1;32m     42\u001b[0m \u001b[38;5;28;01mdef\u001b[39;00m\u001b[38;5;250m \u001b[39m\u001b[38;5;21malpha_gamma\u001b[39m(\u001b[38;5;28mself\u001b[39m, word, context):\n\u001b[1;32m     43\u001b[0m     alpha \u001b[38;5;241m=\u001b[39m \u001b[38;5;28mself\u001b[39m\u001b[38;5;241m.\u001b[39mcounts[context]\u001b[38;5;241m.\u001b[39mfreq(word)\n\u001b[0;32m---> 44\u001b[0m     gamma \u001b[38;5;241m=\u001b[39m \u001b[38;5;28;43mself\u001b[39;49m\u001b[38;5;241;43m.\u001b[39;49m\u001b[43m_gamma\u001b[49m\u001b[43m(\u001b[49m\u001b[43mcontext\u001b[49m\u001b[43m)\u001b[49m\n\u001b[1;32m     45\u001b[0m     \u001b[38;5;28;01mreturn\u001b[39;00m (\u001b[38;5;241m1.0\u001b[39m \u001b[38;5;241m-\u001b[39m gamma) \u001b[38;5;241m*\u001b[39m alpha, gamma\n",
      "File \u001b[0;32m~/code/recursive_dict/.venv/lib/python3.9/site-packages/nltk/lm/smoothing.py:48\u001b[0m, in \u001b[0;36mWittenBell._gamma\u001b[0;34m(self, context)\u001b[0m\n\u001b[1;32m     47\u001b[0m \u001b[38;5;28;01mdef\u001b[39;00m\u001b[38;5;250m \u001b[39m\u001b[38;5;21m_gamma\u001b[39m(\u001b[38;5;28mself\u001b[39m, context):\n\u001b[0;32m---> 48\u001b[0m     n_plus \u001b[38;5;241m=\u001b[39m \u001b[43m_count_values_gt_zero\u001b[49m\u001b[43m(\u001b[49m\u001b[38;5;28;43mself\u001b[39;49m\u001b[38;5;241;43m.\u001b[39;49m\u001b[43mcounts\u001b[49m\u001b[43m[\u001b[49m\u001b[43mcontext\u001b[49m\u001b[43m]\u001b[49m\u001b[43m)\u001b[49m\n\u001b[1;32m     49\u001b[0m     \u001b[38;5;28;01mreturn\u001b[39;00m n_plus \u001b[38;5;241m/\u001b[39m (n_plus \u001b[38;5;241m+\u001b[39m \u001b[38;5;28mself\u001b[39m\u001b[38;5;241m.\u001b[39mcounts[context]\u001b[38;5;241m.\u001b[39mN())\n",
      "File \u001b[0;32m~/code/recursive_dict/.venv/lib/python3.9/site-packages/nltk/lm/smoothing.py:31\u001b[0m, in \u001b[0;36m_count_values_gt_zero\u001b[0;34m(distribution)\u001b[0m\n\u001b[1;32m     25\u001b[0m as_count \u001b[38;5;241m=\u001b[39m (\n\u001b[1;32m     26\u001b[0m     methodcaller(\u001b[38;5;124m\"\u001b[39m\u001b[38;5;124mN\u001b[39m\u001b[38;5;124m\"\u001b[39m)\n\u001b[1;32m     27\u001b[0m     \u001b[38;5;28;01mif\u001b[39;00m \u001b[38;5;28misinstance\u001b[39m(distribution, ConditionalFreqDist)\n\u001b[1;32m     28\u001b[0m     \u001b[38;5;28;01melse\u001b[39;00m \u001b[38;5;28;01mlambda\u001b[39;00m count: count\n\u001b[1;32m     29\u001b[0m )\n\u001b[1;32m     30\u001b[0m \u001b[38;5;66;03m# We explicitly check that values are > 0 to guard against negative counts.\u001b[39;00m\n\u001b[0;32m---> 31\u001b[0m \u001b[38;5;28;01mreturn\u001b[39;00m \u001b[38;5;28;43msum\u001b[39;49m\u001b[43m(\u001b[49m\n\u001b[1;32m     32\u001b[0m \u001b[43m    \u001b[49m\u001b[38;5;241;43m1\u001b[39;49m\u001b[43m \u001b[49m\u001b[38;5;28;43;01mfor\u001b[39;49;00m\u001b[43m \u001b[49m\u001b[43mdist_or_count\u001b[49m\u001b[43m \u001b[49m\u001b[38;5;129;43;01min\u001b[39;49;00m\u001b[43m \u001b[49m\u001b[43mdistribution\u001b[49m\u001b[38;5;241;43m.\u001b[39;49m\u001b[43mvalues\u001b[49m\u001b[43m(\u001b[49m\u001b[43m)\u001b[49m\u001b[43m \u001b[49m\u001b[38;5;28;43;01mif\u001b[39;49;00m\u001b[43m \u001b[49m\u001b[43mas_count\u001b[49m\u001b[43m(\u001b[49m\u001b[43mdist_or_count\u001b[49m\u001b[43m)\u001b[49m\u001b[43m \u001b[49m\u001b[38;5;241;43m>\u001b[39;49m\u001b[43m \u001b[49m\u001b[38;5;241;43m0\u001b[39;49m\n\u001b[1;32m     33\u001b[0m \u001b[43m\u001b[49m\u001b[43m)\u001b[49m\n",
      "File \u001b[0;32m~/code/recursive_dict/.venv/lib/python3.9/site-packages/nltk/lm/smoothing.py:31\u001b[0m, in \u001b[0;36m<genexpr>\u001b[0;34m(.0)\u001b[0m\n\u001b[1;32m     25\u001b[0m as_count \u001b[38;5;241m=\u001b[39m (\n\u001b[1;32m     26\u001b[0m     methodcaller(\u001b[38;5;124m\"\u001b[39m\u001b[38;5;124mN\u001b[39m\u001b[38;5;124m\"\u001b[39m)\n\u001b[1;32m     27\u001b[0m     \u001b[38;5;28;01mif\u001b[39;00m \u001b[38;5;28misinstance\u001b[39m(distribution, ConditionalFreqDist)\n\u001b[1;32m     28\u001b[0m     \u001b[38;5;28;01melse\u001b[39;00m \u001b[38;5;28;01mlambda\u001b[39;00m count: count\n\u001b[1;32m     29\u001b[0m )\n\u001b[1;32m     30\u001b[0m \u001b[38;5;66;03m# We explicitly check that values are > 0 to guard against negative counts.\u001b[39;00m\n\u001b[0;32m---> 31\u001b[0m \u001b[38;5;28;01mreturn\u001b[39;00m \u001b[38;5;28msum\u001b[39m(\n\u001b[1;32m     32\u001b[0m     \u001b[38;5;241m1\u001b[39m \u001b[38;5;28;01mfor\u001b[39;00m dist_or_count \u001b[38;5;129;01min\u001b[39;00m distribution\u001b[38;5;241m.\u001b[39mvalues() \u001b[38;5;28;01mif\u001b[39;00m as_count(dist_or_count) \u001b[38;5;241m>\u001b[39m \u001b[38;5;241m0\u001b[39m\n\u001b[1;32m     33\u001b[0m )\n",
      "\u001b[0;31mKeyboardInterrupt\u001b[0m: "
     ]
    }
   ],
   "source": [
    "results = defaultdict(dict)\n",
    "for author in tqdm(author_to_fragments):\n",
    "    target_author_fragments = author_to_fragments[author][:]\n",
    "    random.shuffle(target_author_fragments)\n",
    "    test_set_size = len(target_author_fragments) // 2\n",
    "    train_fragments = target_author_fragments[test_set_size:]\n",
    "    test_fragments = target_author_fragments[:test_set_size]\n",
    "    lambda_g.train_known_author_model(train_fragments)\n",
    "    results[author][author] = lambda_g.compute_lambda_g(test_fragments)\n",
    "    for other_author in tqdm(top_authors, leave=False):\n",
    "        if other_author == author:\n",
    "            continue\n",
    "        other_test_fragments = author_to_fragments[other_author]\n",
    "        results[author][other_author] = lambda_g.compute_lambda_g(test_fragments)"
   ]
  },
  {
   "cell_type": "code",
   "execution_count": null,
   "id": "14448905",
   "metadata": {},
   "outputs": [],
   "source": []
  }
 ],
 "metadata": {
  "kernelspec": {
   "display_name": ".venv",
   "language": "python",
   "name": "python3"
  },
  "language_info": {
   "codemirror_mode": {
    "name": "ipython",
    "version": 3
   },
   "file_extension": ".py",
   "mimetype": "text/x-python",
   "name": "python",
   "nbconvert_exporter": "python",
   "pygments_lexer": "ipython3",
   "version": "3.9.21"
  }
 },
 "nbformat": 4,
 "nbformat_minor": 5
}
